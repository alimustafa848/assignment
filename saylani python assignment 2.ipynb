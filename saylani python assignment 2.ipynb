{
 "cells": [
  {
   "cell_type": "code",
   "execution_count": 1,
   "metadata": {},
   "outputs": [
    {
     "name": "stdout",
     "output_type": "stream",
     "text": [
      "largest number in the list  99\n"
     ]
    }
   ],
   "source": [
    "list = [10, 20, 24, 45, 99]\n",
    "print(\"largest number in the list \",max(list))"
   ]
  },
  {
   "cell_type": "code",
   "execution_count": null,
   "metadata": {},
   "outputs": [],
   "source": []
  },
  {
   "cell_type": "code",
   "execution_count": 16,
   "metadata": {},
   "outputs": [
    {
     "name": "stdout",
     "output_type": "stream",
     "text": [
      "1\n",
      "1\n",
      "2\n",
      "3\n"
     ]
    }
   ],
   "source": [
    "a = [1, 1, 2, 3, 5, 8, 13, 21, 34, 55, 89]\n",
    "\n",
    "for item in a:\n",
    " if item < 5:\n",
    "   print(item)"
   ]
  },
  {
   "cell_type": "code",
   "execution_count": 17,
   "metadata": {},
   "outputs": [
    {
     "name": "stdout",
     "output_type": "stream",
     "text": [
      "232\n"
     ]
    }
   ],
   "source": [
    "a = [1, 1, 2, 3, 5, 8, 13, 21, 34, 55, 89]\n",
    "b = sum(a)\n",
    "print(b)"
   ]
  },
  {
   "cell_type": "code",
   "execution_count": 19,
   "metadata": {},
   "outputs": [
    {
     "name": "stdout",
     "output_type": "stream",
     "text": [
      "ENTER Mark Of The First Subject: 95\n",
      "ENTER Mark Of The Second Subject: 85\n",
      "ENTER Mark Of The Third Subject: 66\n",
      "ENTER Mark Of The Forth Subject: 75\n",
      "ENTER Mark Of The Fifth Subject: 56\n",
      "YOUR OBTAIN MARK 377\n",
      "Your Grade is A\n"
     ]
    }
   ],
   "source": [
    "subject1=int(input(\"ENTER Mark Of The First Subject: \"))\n",
    "subject2=int(input(\"ENTER Mark Of The Second Subject: \"))\n",
    "subject3=int(input(\"ENTER Mark Of The Third Subject: \"))\n",
    "subject4=int(input(\"ENTER Mark Of The Forth Subject: \"))\n",
    "subject5=int(input(\"ENTER Mark Of The Fifth Subject: \")) \n",
    "obtainmark = subject1 + subject2 + subject3 + subject4 + subject5;\n",
    "print(\"YOUR OBTAIN MARK\",obtainmark)\n",
    "average = obtainmark/5\n",
    "if(average>=85 and average<=100):\n",
    "    \tprint(\"Your Grade is A+\");\n",
    "elif(average>=75 and average<85):\n",
    "    \tprint(\"Your Grade is A\");\n",
    "elif(average>=65 and average<75):\n",
    "    \tprint(\"Your Grade is B+\");\n",
    "elif(average>=55 and average<65):\n",
    "    \tprint(\"Your Grade is B\");\n",
    "elif(average>=50 and average<=55):\n",
    "    \tprint(\"Your Grade is C+\");\n",
    "elif(average>=0 and average<=40):\n",
    "    \tprint(\"Your Grade is F\");\n",
    "else:\n",
    "    \tprint(\"Strange Grade..!!\");\n"
   ]
  },
  {
   "cell_type": "code",
   "execution_count": 20,
   "metadata": {},
   "outputs": [
    {
     "name": "stdout",
     "output_type": "stream",
     "text": [
      "Enter any number: 5\n",
      "5 is an odd number.\n"
     ]
    }
   ],
   "source": [
    "num = input(\"Enter any number: \");\n",
    "number = float(num);\n",
    "if num:\n",
    "    check = number%2;\n",
    "    if check == 0:\n",
    "    \t    print(int(number), \"is an even number.\");\n",
    "    elif check == 1:\n",
    "    \tprint(int(number), \"is an odd number.\");\n",
    "    else:\n",
    "    \tprint(number, \"is strange.\");\n",
    "\n"
   ]
  },
  {
   "cell_type": "code",
   "execution_count": 21,
   "metadata": {},
   "outputs": [
    {
     "name": "stdout",
     "output_type": "stream",
     "text": [
      "7\n"
     ]
    }
   ],
   "source": [
    "a = [2,4,5,4,523,4,5]\n",
    "print(len(a))"
   ]
  },
  {
   "cell_type": "code",
   "execution_count": null,
   "metadata": {},
   "outputs": [],
   "source": []
  }
 ],
 "metadata": {
  "kernelspec": {
   "display_name": "Python 3",
   "language": "python",
   "name": "python3"
  },
  "language_info": {
   "codemirror_mode": {
    "name": "ipython",
    "version": 3
   },
   "file_extension": ".py",
   "mimetype": "text/x-python",
   "name": "python",
   "nbconvert_exporter": "python",
   "pygments_lexer": "ipython3",
   "version": "3.7.4"
  }
 },
 "nbformat": 4,
 "nbformat_minor": 2
}
