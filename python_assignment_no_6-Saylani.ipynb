{
 "cells": [
  {
   "cell_type": "code",
   "execution_count": 1,
   "metadata": {},
   "outputs": [
    {
     "name": "stdout",
     "output_type": "stream",
     "text": [
      "Q1: Define Object Oriented Programming Language?\n",
      "ANS: object oriented programming is majorly based on the classes with in the classes we are having   the obiects with in the objects are defined methods. \n"
     ]
    }
   ],
   "source": [
    "print(\"Q1: Define Object Oriented Programming Language?\")\n",
    "print(\"ANS: object oriented programming is majorly based on the classes with in the classes we are having   the obiects with in the objects are defined methods. \")"
   ]
  },
  {
   "cell_type": "code",
   "execution_count": 2,
   "metadata": {},
   "outputs": [
    {
     "name": "stdout",
     "output_type": "stream",
     "text": [
      "Q2: List down the Benefits of OOP?\n",
      "ANS: (1) It makes software easier to maintain\n",
      "     (2) objects can also be reuse within accross application\n"
     ]
    }
   ],
   "source": [
    "print(\"Q2: List down the Benefits of OOP?\")\n",
    "print(\"ANS: (1) It makes software easier to maintain\")\n",
    "print(\"     (2) objects can also be reuse within accross application\")"
   ]
  },
  {
   "cell_type": "code",
   "execution_count": 3,
   "metadata": {},
   "outputs": [
    {
     "name": "stdout",
     "output_type": "stream",
     "text": [
      "Q3: Differentiate between function and method?\n",
      "ANS: function\n",
      "function is defined as outside the body of the class\n",
      "ANS: method\n",
      "method are function it is defined as inside the body of the class they are used to define behaviour   of the objects.\n"
     ]
    }
   ],
   "source": [
    "print(\"Q3: Differentiate between function and method?\")\n",
    "print(\"ANS: function\")\n",
    "print(\"function is defined as outside the body of the class\")\n",
    "print(\"ANS: method\")\n",
    "print(\"method are function it is defined as inside the body of the class they are used to define behaviour   of the objects.\")"
   ]
  },
  {
   "cell_type": "code",
   "execution_count": 4,
   "metadata": {},
   "outputs": [
    {
     "name": "stdout",
     "output_type": "stream",
     "text": [
      "Define the following terms:\n",
      "1. Class\n",
      "2. Object\n",
      "3. Attribute\n",
      "4. Behavior\n",
      "ANS: class:  A class is a blueprint for creating objects a particular data structure\n",
      "object:  is an approach to problem solving where all computations are carried out using objects\n",
      "Attribute: Attribute are the properties of object\n",
      "Behaviour: A class behavior determines how an instance of that class operates\n"
     ]
    }
   ],
   "source": [
    "print(\"Define the following terms:\")\n",
    "print(\"1. Class\")\n",
    "print(\"2. Object\")\n",
    "print(\"3. Attribute\")\n",
    "print(\"4. Behavior\")\n",
    "print(\"ANS: class:  A class is a blueprint for creating objects a particular data structure\")\n",
    "print(\"object:  is an approach to problem solving where all computations are carried out using objects\")\n",
    "print(\"Attribute: Attribute are the properties of object\")\n",
    "print(\"Behaviour: A class behavior determines how an instance of that class operates\")"
   ]
  },
  {
   "cell_type": "code",
   "execution_count": 6,
   "metadata": {},
   "outputs": [
    {
     "name": "stdout",
     "output_type": "stream",
     "text": [
      "City is a Car\n",
      "Toyota is a Car\n",
      "Honda is City Multinational Company\n",
      "Toyota is Grande Japanes Company\n"
     ]
    }
   ],
   "source": [
    "class Vehicle:\n",
    "\n",
    "    # class attribute\n",
    "    species = \"Car\"\n",
    "\n",
    "    # instance attribute\n",
    "    def __init__(self, Companyname,name, Model, RYear,Color):\n",
    "        self.Companyname = Companyname\n",
    "        self.name = name\n",
    "        self.Model = Model\n",
    "        self.RYear = RYear\n",
    "        self.Color = Color\n",
    "\n",
    "# instantiate the Parrot class\n",
    "Cit = Vehicle(\"Honda\", \"City\", 2016, 2017, \"Silver\" )\n",
    "Toyo = Vehicle(\"Toyota\", \"Grande\", 2019, 2019, \"WHITE\")\n",
    "\n",
    "# access the class attributes\n",
    "print(\"City is a {}\".format(Cit.__class__.species))\n",
    "print(\"Toyota is a {}\".format(Toyo.__class__.species))\n",
    "\n",
    "# access the instance attributes\n",
    "print(\"{} is {} Multinational Company\".format( Cit.Companyname, Cit.name, Cit.Model, Cit.RYear,Cit.Color))\n",
    "print(\"{} is {} Japanes Company\".format( Toyo.Companyname, Toyo.name, Toyo.Model, Toyo.RYear,Toyo.Color))"
   ]
  },
  {
   "cell_type": "code",
   "execution_count": null,
   "metadata": {},
   "outputs": [],
   "source": []
  }
 ],
 "metadata": {
  "kernelspec": {
   "display_name": "Python 3",
   "language": "python",
   "name": "python3"
  },
  "language_info": {
   "codemirror_mode": {
    "name": "ipython",
    "version": 3
   },
   "file_extension": ".py",
   "mimetype": "text/x-python",
   "name": "python",
   "nbconvert_exporter": "python",
   "pygments_lexer": "ipython3",
   "version": "3.7.4"
  }
 },
 "nbformat": 4,
 "nbformat_minor": 2
}
