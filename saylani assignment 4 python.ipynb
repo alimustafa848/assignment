{
 "cells": [
  {
   "cell_type": "code",
   "execution_count": 1,
   "metadata": {},
   "outputs": [
    {
     "name": "stdout",
     "output_type": "stream",
     "text": [
      "5 A 11 /1 nazimabad karachi\n"
     ]
    }
   ],
   "source": [
    "customer={\"firstname\":\"ALI\",\n",
    "          \"lastname\":\"MUSTAFA\",\n",
    "          \"City\":\"Karachi\",\n",
    "          \"address\":\"5 A 11 /1 nazimabad karachi\"}\n",
    "print(customer[\"address\"])"
   ]
  },
  {
   "cell_type": "code",
   "execution_count": 2,
   "metadata": {},
   "outputs": [
    {
     "name": "stdout",
     "output_type": "stream",
     "text": [
      "{'firstname': 'ALI', 'lastname': 'MUSTAFA', 'City': 'Karachi', 'address': '5 A 11 /1 nazimabad karachi', 'Qualification': 'Bachlor in software engineering'}\n"
     ]
    }
   ],
   "source": [
    "customer={\"firstname\":\"ALI\",\n",
    "          \"lastname\":\"MUSTAFA\",\n",
    "          \"City\":\"Karachi\",\n",
    "          \"address\":\"5 A 11 /1 nazimabad karachi\"}\n",
    "customer[\"Qualification\"]=\"Bachlor in software engineering\"\n",
    "\n",
    "print(customer)"
   ]
  },
  {
   "cell_type": "code",
   "execution_count": 3,
   "metadata": {},
   "outputs": [
    {
     "name": "stdout",
     "output_type": "stream",
     "text": [
      "{'firstname': 'ALI', 'lastname': 'MUSTAFA', 'City': 'Karachi', 'address': '5 A 11 /1 nazimabad karachi', 'Qualification': 'Bachlor in software engineering '}\n",
      "{'firstname': 'ALI', 'lastname': 'MUSTAFA', 'City': 'Karachi', 'address': '5 A 11 /1 nazimabad karachi'}\n"
     ]
    }
   ],
   "source": [
    "customer={\"firstname\":\"ALI\",\n",
    "          \"lastname\":\"MUSTAFA\",\n",
    "          \"City\":\"Karachi\",\n",
    "          \"address\":\"5 A 11 /1 nazimabad karachi\"}\n",
    "customer[\"Qualification\"]=\"Bachlor in software engineering \"\n",
    "\n",
    "print(customer)\n",
    "\n",
    "del customer[\"Qualification\"]\n",
    "print (customer)\n"
   ]
  },
  {
   "cell_type": "code",
   "execution_count": 4,
   "metadata": {},
   "outputs": [
    {
     "name": "stdout",
     "output_type": "stream",
     "text": [
      "Karachi, Pakistan, 11000000\n",
      "Madina, Saudi Arabia, 12000000\n",
      "Hongkong, Japan, 6500000\n"
     ]
    }
   ],
   "source": [
    "def city_country(city, country,population):\n",
    "    return(city.title() + \", \" + country.title()+\", \"+ population.title())\n",
    "\n",
    "city = city_country('KARACHI', 'Pakistan','11000000')\n",
    "print(city)\n",
    "\n",
    "city = city_country('MADINA', 'Saudi Arabia','12000000')\n",
    "print(city)\n",
    "city = city_country('Hongkong', 'Japan','6500000')\n",
    "print(city)"
   ]
  },
  {
   "cell_type": "code",
   "execution_count": null,
   "metadata": {},
   "outputs": [
    {
     "name": "stdout",
     "output_type": "stream",
     "text": [
      "How Old Are You?\n",
      " Enter 'QUIT' When You Are Finished.32\n",
      "Plese pay $15 for your Ticket\n",
      "How Old Are You?\n",
      " Enter 'QUIT' When You Are Finished.12\n",
      "Plese pay $10 for your Ticket\n",
      "How Old Are You?\n",
      " Enter 'QUIT' When You Are Finished.32\n",
      "Plese pay $15 for your Ticket\n",
      "How Old Are You?\n",
      " Enter 'QUIT' When You Are Finished.32\n",
      "Plese pay $15 for your Ticket\n"
     ]
    }
   ],
   "source": [
    "inputs = \"How Old Are You?\"\n",
    "inputs += \"\\n Enter 'QUIT' When You Are Finished.\"\n",
    "while True:\n",
    "    age = input(inputs)\n",
    "    if age == 'quit':\n",
    "        break\n",
    "    age = int (age)\n",
    "    if age > 0 and age <= 3:\n",
    "        print (\"your Ticket Is Free!\")\n",
    "    elif (age > 3 and age <= 12):\n",
    "        print(\"Plese pay $10 for your Ticket\")\n",
    "    else:\n",
    "         print(\"Plese pay $15 for your Ticket\")"
   ]
  },
  {
   "cell_type": "code",
   "execution_count": null,
   "metadata": {},
   "outputs": [],
   "source": [
    "def favorite_book(title):\n",
    "    print(\"One of my favorite book is \" + title)\n",
    "\n",
    "favorite_book(\"Alice in Wonderland\")"
   ]
  },
  {
   "cell_type": "code",
   "execution_count": null,
   "metadata": {},
   "outputs": [],
   "source": [
    "import random\n",
    "guessesTaken = 0\n",
    "print('Hello! What is your name?')\n",
    "myName = input()\n",
    "number = random.randint(1, 30)\n",
    "print('Well, ' + myName + ', I am thinking of a number between 1 and 30.')\n",
    "while guessesTaken < 6:\n",
    "    print('Take a guess.') \n",
    "    guess = input()\n",
    "    guess = int(guess)\n",
    "    guessesTaken = guessesTaken + 1\n",
    "\n",
    "    if guess < number:\n",
    "        print('Your guess is too low.')\n",
    "        if guess > number:\n",
    "            print('Your guess is too high.')\n",
    "            if guess == number:\n",
    "                break\n",
    "                if guess == number:\n",
    "                    guessesTaken = str(guessesTaken)\n",
    "                    print('Good job, ' + myName + '! You guessed my number in ' + guessesTaken + ' guesses!')\n",
    "                    if guess != number:\n",
    "                        number = str(number)\n",
    "                        print('Nope. The number I was thinking of was ' + number)\n"
   ]
  },
  {
   "cell_type": "code",
   "execution_count": null,
   "metadata": {},
   "outputs": [],
   "source": []
  }
 ],
 "metadata": {
  "kernelspec": {
   "display_name": "Python 3",
   "language": "python",
   "name": "python3"
  },
  "language_info": {
   "codemirror_mode": {
    "name": "ipython",
    "version": 3
   },
   "file_extension": ".py",
   "mimetype": "text/x-python",
   "name": "python",
   "nbconvert_exporter": "python",
   "pygments_lexer": "ipython3",
   "version": "3.7.4"
  }
 },
 "nbformat": 4,
 "nbformat_minor": 2
}
