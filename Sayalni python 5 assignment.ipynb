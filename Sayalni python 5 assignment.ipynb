{
 "cells": [
  {
   "cell_type": "code",
   "execution_count": 1,
   "metadata": {},
   "outputs": [],
   "source": [
    "def factorial(num):\n",
    "    if num==0:\n",
    "        return 1\n",
    "    else:\n",
    "        return num * factorial(num - 1)\n",
    "    \n",
    "factorial(5)\n",
    "    \n",
    "    \n",
    "    \n",
    "\n"
   ]
  },
  {
   "cell_type": "code",
   "execution_count": 2,
   "metadata": {},
   "outputs": [
    {
     "name": "stdout",
     "output_type": "stream",
     "text": [
      "The num of upper cases is:  \n",
      "7\n",
      "The num of lower cases is:  \n",
      "7\n"
     ]
    }
   ],
   "source": [
    "def case(string):\n",
    "    u_case = 0\n",
    "    l_case = 0\n",
    "    \n",
    "    for i in string:\n",
    "        if i.isupper():\n",
    "            u_case = u_case + 1\n",
    "        elif i.islower():\n",
    "            l_case = l_case + 1\n",
    "            \n",
    "    print(\"The num of upper cases is:  \")\n",
    "    print(u_case)\n",
    "    print(\"The num of lower cases is:  \")\n",
    "    print(l_case)\n",
    "    \n",
    "case(\"WHAt is your NAME\")\n",
    "    \n",
    "\n"
   ]
  },
  {
   "cell_type": "code",
   "execution_count": 9,
   "metadata": {},
   "outputs": [
    {
     "name": "stdout",
     "output_type": "stream",
     "text": [
      "20\n",
      "34\n",
      "32\n",
      "6\n",
      "60\n"
     ]
    }
   ],
   "source": [
    "l_i_s_t = [20,34,32,1,3,7,5,6,60]\n",
    "def evennum(list):\n",
    "    for i in l_i_s_t:\n",
    "        if (i%2) ==0:\n",
    "            \n",
    "            print(i)\n",
    "            \n",
    "        \n",
    "                \n",
    "evennum(list)\n",
    "\n"
   ]
  },
  {
   "cell_type": "code",
   "execution_count": 7,
   "metadata": {},
   "outputs": [
    {
     "name": "stdout",
     "output_type": "stream",
     "text": [
      "True\n"
     ]
    }
   ],
   "source": [
    "def isPalindrome(string):\n",
    "    left_pos = 0\n",
    "    right_pos = len(string) - 1\n",
    "\n",
    "    while right_pos >= left_pos:\n",
    "        if not string[left_pos] == string[right_pos]:\n",
    "            return False\n",
    "        left_pos += 1\n",
    "        right_pos -= 1\n",
    "    return True\n",
    "print(isPalindrome('madam'))"
   ]
  },
  {
   "cell_type": "code",
   "execution_count": 5,
   "metadata": {},
   "outputs": [
    {
     "name": "stdout",
     "output_type": "stream",
     "text": [
      "the num is prime\n"
     ]
    }
   ],
   "source": [
    "def prime(num):\n",
    "    if num%2!=0 and num%num==0:\n",
    "        print(\"the num is prime\")\n",
    "    else:\n",
    "        print(\"number is not prime\")\n",
    "        \n",
    "prime(11)"
   ]
  },
  {
   "cell_type": "code",
   "execution_count": null,
   "metadata": {},
   "outputs": [],
   "source": [
    "shopping_list=[{\n",
    "    \"S no\" : 1,\n",
    "    \"food\" : [\"nugets\",\"chunks\",\"paratha\"]\n",
    "    \"bevrages\" : [\"drinks\",\"colddrinks\"]\n",
    "},\n",
    "    \"S no\" : 2,\n",
    "    \"grocery\" : [\"plates\",\"spoons\",\"hotpots\"]\n",
    "    \"choclates\" : [\"dairy milk\",\"do nuts\"] \n",
    "}]\n",
    "def shopping()"
   ]
  }
 ],
 "metadata": {
  "kernelspec": {
   "display_name": "Python 3",
   "language": "python",
   "name": "python3"
  },
  "language_info": {
   "codemirror_mode": {
    "name": "ipython",
    "version": 3
   },
   "file_extension": ".py",
   "mimetype": "text/x-python",
   "name": "python",
   "nbconvert_exporter": "python",
   "pygments_lexer": "ipython3",
   "version": "3.7.4"
  }
 },
 "nbformat": 4,
 "nbformat_minor": 2
}
